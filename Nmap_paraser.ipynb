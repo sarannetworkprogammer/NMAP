{
  "nbformat": 4,
  "nbformat_minor": 0,
  "metadata": {
    "colab": {
      "provenance": [],
      "mount_file_id": "1JtNsQuookRk0UJOYBdjn3-2EzY8w5snv",
      "authorship_tag": "ABX9TyOZxt6jr3fb7KU2OAFN4nKz",
      "include_colab_link": true
    },
    "kernelspec": {
      "name": "python3",
      "display_name": "Python 3"
    },
    "language_info": {
      "name": "python"
    }
  },
  "cells": [
    {
      "cell_type": "markdown",
      "metadata": {
        "id": "view-in-github",
        "colab_type": "text"
      },
      "source": [
        "<a href=\"https://colab.research.google.com/github/sarannetworkprogammer/NMAP/blob/main/Nmap_paraser.ipynb\" target=\"_parent\"><img src=\"https://colab.research.google.com/assets/colab-badge.svg\" alt=\"Open In Colab\"/></a>"
      ]
    },
    {
      "cell_type": "code",
      "source": [
        "!pip install python-libnmap"
      ],
      "metadata": {
        "colab": {
          "base_uri": "https://localhost:8080/"
        },
        "id": "hY54QXFJIayc",
        "outputId": "881c2679-b791-4ec0-8040-b8b12e44c430"
      },
      "execution_count": 6,
      "outputs": [
        {
          "output_type": "stream",
          "name": "stdout",
          "text": [
            "Looking in indexes: https://pypi.org/simple, https://us-python.pkg.dev/colab-wheels/public/simple/\n",
            "Collecting python-libnmap\n",
            "  Downloading python-libnmap-0.7.3.tar.gz (39 kB)\n",
            "Building wheels for collected packages: python-libnmap\n",
            "  Building wheel for python-libnmap (setup.py) ... \u001b[?25l\u001b[?25hdone\n",
            "  Created wheel for python-libnmap: filename=python_libnmap-0.7.3-py3-none-any.whl size=37540 sha256=84e6448bfc305256997f2faecea3a4e61a9ead4615300da6433a80fd008605be\n",
            "  Stored in directory: /root/.cache/pip/wheels/54/3e/7c/de0d5b521adb13613b6024618d7d6314d1157062eb99d76174\n",
            "Successfully built python-libnmap\n",
            "Installing collected packages: python-libnmap\n",
            "Successfully installed python-libnmap-0.7.3\n"
          ]
        }
      ]
    },
    {
      "cell_type": "code",
      "execution_count": 26,
      "metadata": {
        "colab": {
          "base_uri": "https://localhost:8080/"
        },
        "id": "ADAE4IwAIGx4",
        "outputId": "d5f6e6fe-6b1b-4a42-fc96-027cba5fd5fa"
      },
      "outputs": [
        {
          "output_type": "stream",
          "name": "stdout",
          "text": [
            "Nmap scan summary: NmapReport: started at 1668790991 hosts up 20/56\n",
            "('192.168.101.150', [(53, 'tcp'), (135, 'tcp'), (139, 'tcp'), (445, 'tcp'), (3389, 'tcp')])\n",
            "('192.168.101.153', [(1947, 'tcp'), (3389, 'tcp'), (5405, 'tcp')])\n",
            "('192.168.101.154', [(22, 'tcp'), (3389, 'tcp')])\n",
            "('192.168.101.155', [(1947, 'tcp'), (3389, 'tcp'), (5405, 'tcp')])\n",
            "('192.168.101.156', [(135, 'tcp'), (139, 'tcp'), (445, 'tcp')])\n",
            "('192.168.101.157', [(1947, 'tcp'), (3389, 'tcp'), (5405, 'tcp')])\n",
            "('192.168.101.158', [(2013, 'tcp'), (3389, 'tcp')])\n",
            "('192.168.101.159', [(1947, 'tcp'), (3389, 'tcp'), (5405, 'tcp')])\n",
            "('192.168.101.161', [(1947, 'tcp'), (3389, 'tcp'), (5405, 'tcp')])\n",
            "('192.168.101.165', [])\n",
            "('192.168.101.166', [(111, 'tcp')])\n",
            "('192.168.101.167', [])\n",
            "('192.168.101.168', [])\n",
            "('192.168.101.169', [(22, 'tcp'), (53, 'tcp'), (139, 'tcp'), (445, 'tcp')])\n",
            "('192.168.101.170', [(443, 'tcp')])\n",
            "('192.168.101.176', [(80, 'tcp'), (427, 'tcp'), (443, 'tcp'), (902, 'tcp'), (8000, 'tcp'), (8300, 'tcp'), (9080, 'tcp')])\n",
            "('192.168.101.192', [(22, 'tcp'), (88, 'tcp'), (631, 'tcp'), (5900, 'tcp')])\n",
            "('192.168.101.197', [(21, 'tcp'), (80, 'tcp'), (554, 'tcp'), (49152, 'tcp')])\n",
            "('192.168.101.203', [(21, 'tcp'), (22, 'tcp'), (23, 'tcp'), (25, 'tcp'), (53, 'tcp'), (80, 'tcp'), (111, 'tcp'), (139, 'tcp'), (445, 'tcp'), (512, 'tcp'), (513, 'tcp'), (514, 'tcp'), (1099, 'tcp'), (1524, 'tcp'), (2049, 'tcp'), (2121, 'tcp'), (3306, 'tcp'), (5432, 'tcp'), (5900, 'tcp'), (6000, 'tcp'), (6667, 'tcp'), (8009, 'tcp'), (8180, 'tcp')])\n",
            "('192.168.101.152', [(111, 'tcp')])\n",
            "Total no.of ips up = 20\n"
          ]
        }
      ],
      "source": [
        "from libnmap.parser import NmapParser\n",
        "\n",
        "nmap_report = NmapParser.parse_fromfile('/content/drive/MyDrive/Colab Notebooks/saran_intense_scan.xml')\n",
        "\n",
        "print(\"Nmap scan summary: {0}\".format(nmap_report))\n",
        "\n",
        "#for scanned_hosts in nmap_report.hosts:\n",
        "    #print(scanned_hosts)\n",
        "\n",
        "hosts = {}\n",
        "for host in nmap_report.hosts:\n",
        "            if host.is_up():\n",
        "                hosts[host.address] =  host.get_open_ports()\n",
        "                \n",
        "\n",
        "for each in hosts.items():\n",
        "  print(each)     \n",
        "print(f\"Total no.of ips up = {len(hosts)}\")"
      ]
    },
    {
      "cell_type": "code",
      "source": [
        "# function for parasing nmap output finding open ports and hosts\n",
        "\n",
        "def nmap_parse_ports_by_host(scan_output):\n",
        "    '''Accepts nmap scan output XML and returns a dict of hosts and tuples of corresponding\n",
        "        open ports; only live hosts and open ports should be returned.\n",
        "    \n",
        "        e.g. {'192.168.0.171': [(80, 'tcp'), (111, 'tcp')]}\n",
        "    \n",
        "    '''\n",
        "    try:\n",
        "        hosts={}\n",
        "        parsed = NmapParser.parse_fromfile(scan_output)\n",
        "        \n",
        "        for host in parsed.hosts:\n",
        "            if host.is_up():\n",
        "                hosts[host.address] =  host.get_open_ports()\n",
        "                \n",
        "        \n",
        "        print(hosts)\n",
        "    except:\n",
        "        print(\"\\n[!] Error parsing scan output\")\n",
        "\n",
        "scan_output ='/content/drive/MyDrive/Colab Notebooks/saran_intense_scan.xml'\n",
        "results = nmap_parse_ports_by_host(scan_output)\n",
        "print(results)"
      ],
      "metadata": {
        "colab": {
          "base_uri": "https://localhost:8080/"
        },
        "id": "KV8RGkH3MA7d",
        "outputId": "7e27c1c5-cedc-4f3a-a540-8b1cabb8f57f"
      },
      "execution_count": 27,
      "outputs": [
        {
          "output_type": "stream",
          "name": "stdout",
          "text": [
            "{'192.168.101.150': [(53, 'tcp'), (135, 'tcp'), (139, 'tcp'), (445, 'tcp'), (3389, 'tcp')], '192.168.101.153': [(1947, 'tcp'), (3389, 'tcp'), (5405, 'tcp')], '192.168.101.154': [(22, 'tcp'), (3389, 'tcp')], '192.168.101.155': [(1947, 'tcp'), (3389, 'tcp'), (5405, 'tcp')], '192.168.101.156': [(135, 'tcp'), (139, 'tcp'), (445, 'tcp')], '192.168.101.157': [(1947, 'tcp'), (3389, 'tcp'), (5405, 'tcp')], '192.168.101.158': [(2013, 'tcp'), (3389, 'tcp')], '192.168.101.159': [(1947, 'tcp'), (3389, 'tcp'), (5405, 'tcp')], '192.168.101.161': [(1947, 'tcp'), (3389, 'tcp'), (5405, 'tcp')], '192.168.101.165': [], '192.168.101.166': [(111, 'tcp')], '192.168.101.167': [], '192.168.101.168': [], '192.168.101.169': [(22, 'tcp'), (53, 'tcp'), (139, 'tcp'), (445, 'tcp')], '192.168.101.170': [(443, 'tcp')], '192.168.101.176': [(80, 'tcp'), (427, 'tcp'), (443, 'tcp'), (902, 'tcp'), (8000, 'tcp'), (8300, 'tcp'), (9080, 'tcp')], '192.168.101.192': [(22, 'tcp'), (88, 'tcp'), (631, 'tcp'), (5900, 'tcp')], '192.168.101.197': [(21, 'tcp'), (80, 'tcp'), (554, 'tcp'), (49152, 'tcp')], '192.168.101.203': [(21, 'tcp'), (22, 'tcp'), (23, 'tcp'), (25, 'tcp'), (53, 'tcp'), (80, 'tcp'), (111, 'tcp'), (139, 'tcp'), (445, 'tcp'), (512, 'tcp'), (513, 'tcp'), (514, 'tcp'), (1099, 'tcp'), (1524, 'tcp'), (2049, 'tcp'), (2121, 'tcp'), (3306, 'tcp'), (5432, 'tcp'), (5900, 'tcp'), (6000, 'tcp'), (6667, 'tcp'), (8009, 'tcp'), (8180, 'tcp')], '192.168.101.152': [(111, 'tcp')]}\n",
            "None\n"
          ]
        }
      ]
    },
    {
      "cell_type": "code",
      "source": [
        "# finding web server in system with python code\n",
        "\n",
        "def nmap_parse_webhosts(scan_output):\n",
        "    '''Accepts nmap scan output XML and returns text output suitable for passing to Nikto\n",
        "        \n",
        "        e.g:\n",
        "        192.168.1.100:80\n",
        "        192.168.1.101:8080\n",
        "    '''\n",
        "    \n",
        "    try:\n",
        "        webhosts = \"\"\n",
        "        parsed = NmapParser.parse_fromfile(scan_output)\n",
        "        \n",
        "        for host in parsed.hosts:\n",
        "            if host.is_up():\n",
        "                services = host.services\n",
        "                for service in services:\n",
        "                    if (service.state == \"open\") and (service.service[:4]) == \"http\":\n",
        "                        webhosts += host.address+\":\"+str(service.port)+\"\\n\"\n",
        "        \n",
        "        return webhosts\n",
        "    \n",
        "    except:\n",
        "        print(\"\\n[!] Error parsing scan output\" )\n",
        "\n",
        "\n",
        "scan_output ='/content/drive/MyDrive/Colab Notebooks/saran_intense_scan.xml'\n",
        "web_hosts = nmap_parse_webhosts(scan_output)\n",
        "\n",
        "print(web_hosts)"
      ],
      "metadata": {
        "colab": {
          "base_uri": "https://localhost:8080/"
        },
        "id": "kOiVIbGHOibc",
        "outputId": "c7e07b74-b833-4822-c942-c81dddd685c8"
      },
      "execution_count": 29,
      "outputs": [
        {
          "output_type": "stream",
          "name": "stdout",
          "text": [
            "192.168.101.153:1947\n",
            "192.168.101.155:1947\n",
            "192.168.101.157:1947\n",
            "192.168.101.159:1947\n",
            "192.168.101.161:1947\n",
            "192.168.101.170:443\n",
            "192.168.101.176:80\n",
            "192.168.101.176:443\n",
            "192.168.101.176:8000\n",
            "192.168.101.197:80\n",
            "192.168.101.203:80\n",
            "\n"
          ]
        }
      ]
    }
  ]
}